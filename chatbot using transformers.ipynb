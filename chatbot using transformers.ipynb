{
 "cells": [
  {
   "cell_type": "code",
   "execution_count": 1,
   "id": "fc23eca3-533b-4ff0-875c-87b4a461eb53",
   "metadata": {},
   "outputs": [],
   "source": [
    "import numpy as np\n",
    "import pandas as pd\n",
    "#import tensorflow as tf\n",
    "#from tensorflow import keras"
   ]
  },
  {
   "cell_type": "markdown",
   "id": "57b3051b-e1c2-465a-a979-2c2e2beee444",
   "metadata": {},
   "source": [
    "## Data Import And Exploration"
   ]
  },
  {
   "cell_type": "code",
   "execution_count": 2,
   "id": "188ae761-ce80-4772-8ecb-7f6fd373886f",
   "metadata": {},
   "outputs": [],
   "source": [
    "#Importing the data\n",
    "df = pd.read_excel('Data Set - industrial_safety_and_health_database_with_accidents_description.xlsx')"
   ]
  },
  {
   "cell_type": "code",
   "execution_count": 3,
   "id": "db06b07f-b430-43b3-8944-c913165832a2",
   "metadata": {},
   "outputs": [
    {
     "data": {
      "text/plain": [
       "(425, 11)"
      ]
     },
     "execution_count": 3,
     "metadata": {},
     "output_type": "execute_result"
    }
   ],
   "source": [
    "#Checking the shape\n",
    "df.shape"
   ]
  },
  {
   "cell_type": "markdown",
   "id": "038e0321-131c-4f1d-a6f9-8ff8db0d4207",
   "metadata": {},
   "source": [
    "Dataset has 425 records and 11 columns."
   ]
  },
  {
   "cell_type": "code",
   "execution_count": 4,
   "id": "68027699-b53d-41ac-966e-bde225a70755",
   "metadata": {},
   "outputs": [
    {
     "name": "stdout",
     "output_type": "stream",
     "text": [
      "<class 'pandas.core.frame.DataFrame'>\n",
      "RangeIndex: 425 entries, 0 to 424\n",
      "Data columns (total 11 columns):\n",
      " #   Column                    Non-Null Count  Dtype         \n",
      "---  ------                    --------------  -----         \n",
      " 0   Unnamed: 0                425 non-null    int64         \n",
      " 1   Data                      425 non-null    datetime64[ns]\n",
      " 2   Countries                 425 non-null    object        \n",
      " 3   Local                     425 non-null    object        \n",
      " 4   Industry Sector           425 non-null    object        \n",
      " 5   Accident Level            425 non-null    object        \n",
      " 6   Potential Accident Level  425 non-null    object        \n",
      " 7   Genre                     425 non-null    object        \n",
      " 8   Employee or Third Party   425 non-null    object        \n",
      " 9   Critical Risk             425 non-null    object        \n",
      " 10  Description               425 non-null    object        \n",
      "dtypes: datetime64[ns](1), int64(1), object(9)\n",
      "memory usage: 36.6+ KB\n"
     ]
    }
   ],
   "source": [
    "#Checking the info about columns\n",
    "df.info()"
   ]
  },
  {
   "cell_type": "markdown",
   "id": "eb0bc536-c442-4851-9747-424cb6375497",
   "metadata": {},
   "source": [
    "* There is one unnamed column, so we can remove that column.\n",
    "* All the columns are categorical except Data and Unnamed column."
   ]
  },
  {
   "cell_type": "code",
   "execution_count": 5,
   "id": "84525d73-b98b-41f4-b71e-a85e74bc5eaa",
   "metadata": {},
   "outputs": [
    {
     "data": {
      "text/html": [
       "<div>\n",
       "<style scoped>\n",
       "    .dataframe tbody tr th:only-of-type {\n",
       "        vertical-align: middle;\n",
       "    }\n",
       "\n",
       "    .dataframe tbody tr th {\n",
       "        vertical-align: top;\n",
       "    }\n",
       "\n",
       "    .dataframe thead th {\n",
       "        text-align: right;\n",
       "    }\n",
       "</style>\n",
       "<table border=\"1\" class=\"dataframe\">\n",
       "  <thead>\n",
       "    <tr style=\"text-align: right;\">\n",
       "      <th></th>\n",
       "      <th>Unnamed: 0</th>\n",
       "      <th>Data</th>\n",
       "      <th>Countries</th>\n",
       "      <th>Local</th>\n",
       "      <th>Industry Sector</th>\n",
       "      <th>Accident Level</th>\n",
       "      <th>Potential Accident Level</th>\n",
       "      <th>Genre</th>\n",
       "      <th>Employee or Third Party</th>\n",
       "      <th>Critical Risk</th>\n",
       "      <th>Description</th>\n",
       "    </tr>\n",
       "  </thead>\n",
       "  <tbody>\n",
       "    <tr>\n",
       "      <th>0</th>\n",
       "      <td>0</td>\n",
       "      <td>2016-01-01</td>\n",
       "      <td>Country_01</td>\n",
       "      <td>Local_01</td>\n",
       "      <td>Mining</td>\n",
       "      <td>I</td>\n",
       "      <td>IV</td>\n",
       "      <td>Male</td>\n",
       "      <td>Third Party</td>\n",
       "      <td>Pressed</td>\n",
       "      <td>While removing the drill rod of the Jumbo 08 f...</td>\n",
       "    </tr>\n",
       "    <tr>\n",
       "      <th>1</th>\n",
       "      <td>1</td>\n",
       "      <td>2016-01-02</td>\n",
       "      <td>Country_02</td>\n",
       "      <td>Local_02</td>\n",
       "      <td>Mining</td>\n",
       "      <td>I</td>\n",
       "      <td>IV</td>\n",
       "      <td>Male</td>\n",
       "      <td>Employee</td>\n",
       "      <td>Pressurized Systems</td>\n",
       "      <td>During the activation of a sodium sulphide pum...</td>\n",
       "    </tr>\n",
       "    <tr>\n",
       "      <th>2</th>\n",
       "      <td>2</td>\n",
       "      <td>2016-01-06</td>\n",
       "      <td>Country_01</td>\n",
       "      <td>Local_03</td>\n",
       "      <td>Mining</td>\n",
       "      <td>I</td>\n",
       "      <td>III</td>\n",
       "      <td>Male</td>\n",
       "      <td>Third Party (Remote)</td>\n",
       "      <td>Manual Tools</td>\n",
       "      <td>In the sub-station MILPO located at level +170...</td>\n",
       "    </tr>\n",
       "    <tr>\n",
       "      <th>3</th>\n",
       "      <td>3</td>\n",
       "      <td>2016-01-08</td>\n",
       "      <td>Country_01</td>\n",
       "      <td>Local_04</td>\n",
       "      <td>Mining</td>\n",
       "      <td>I</td>\n",
       "      <td>I</td>\n",
       "      <td>Male</td>\n",
       "      <td>Third Party</td>\n",
       "      <td>Others</td>\n",
       "      <td>Being 9:45 am. approximately in the Nv. 1880 C...</td>\n",
       "    </tr>\n",
       "    <tr>\n",
       "      <th>4</th>\n",
       "      <td>4</td>\n",
       "      <td>2016-01-10</td>\n",
       "      <td>Country_01</td>\n",
       "      <td>Local_04</td>\n",
       "      <td>Mining</td>\n",
       "      <td>IV</td>\n",
       "      <td>IV</td>\n",
       "      <td>Male</td>\n",
       "      <td>Third Party</td>\n",
       "      <td>Others</td>\n",
       "      <td>Approximately at 11:45 a.m. in circumstances t...</td>\n",
       "    </tr>\n",
       "  </tbody>\n",
       "</table>\n",
       "</div>"
      ],
      "text/plain": [
       "   Unnamed: 0       Data   Countries     Local Industry Sector Accident Level  \\\n",
       "0           0 2016-01-01  Country_01  Local_01          Mining              I   \n",
       "1           1 2016-01-02  Country_02  Local_02          Mining              I   \n",
       "2           2 2016-01-06  Country_01  Local_03          Mining              I   \n",
       "3           3 2016-01-08  Country_01  Local_04          Mining              I   \n",
       "4           4 2016-01-10  Country_01  Local_04          Mining             IV   \n",
       "\n",
       "  Potential Accident Level Genre Employee or Third Party        Critical Risk  \\\n",
       "0                       IV  Male             Third Party              Pressed   \n",
       "1                       IV  Male                Employee  Pressurized Systems   \n",
       "2                      III  Male    Third Party (Remote)         Manual Tools   \n",
       "3                        I  Male             Third Party               Others   \n",
       "4                       IV  Male             Third Party               Others   \n",
       "\n",
       "                                         Description  \n",
       "0  While removing the drill rod of the Jumbo 08 f...  \n",
       "1  During the activation of a sodium sulphide pum...  \n",
       "2  In the sub-station MILPO located at level +170...  \n",
       "3  Being 9:45 am. approximately in the Nv. 1880 C...  \n",
       "4  Approximately at 11:45 a.m. in circumstances t...  "
      ]
     },
     "execution_count": 5,
     "metadata": {},
     "output_type": "execute_result"
    }
   ],
   "source": [
    "#Checking the first 5 records\n",
    "df.head()"
   ]
  },
  {
   "cell_type": "markdown",
   "id": "6ed46e2b-68df-4d57-a1c0-bd7815bb9f66",
   "metadata": {},
   "source": [
    "# Data Cleaning"
   ]
  },
  {
   "cell_type": "code",
   "execution_count": 6,
   "id": "84c7ea0b-bb4e-4d2e-a2bd-700d842028ef",
   "metadata": {},
   "outputs": [],
   "source": [
    "#Dropping the Unnamed columns\n",
    "df = df.drop('Unnamed: 0', axis=1)"
   ]
  },
  {
   "cell_type": "code",
   "execution_count": 7,
   "id": "6285b0a4-3c58-4b0d-ab3a-da3bb89e4470",
   "metadata": {},
   "outputs": [
    {
     "data": {
      "text/plain": [
       "7"
      ]
     },
     "execution_count": 7,
     "metadata": {},
     "output_type": "execute_result"
    }
   ],
   "source": [
    "#Checking the duplicate values\n",
    "df.duplicated().sum()"
   ]
  },
  {
   "cell_type": "markdown",
   "id": "61f27e38-7653-452f-b48b-4b91f242c366",
   "metadata": {},
   "source": [
    "There are 7 duplicate records."
   ]
  },
  {
   "cell_type": "code",
   "execution_count": 8,
   "id": "9e620f73-df4e-49b3-8a72-dfb95382927f",
   "metadata": {},
   "outputs": [
    {
     "data": {
      "text/html": [
       "<div>\n",
       "<style scoped>\n",
       "    .dataframe tbody tr th:only-of-type {\n",
       "        vertical-align: middle;\n",
       "    }\n",
       "\n",
       "    .dataframe tbody tr th {\n",
       "        vertical-align: top;\n",
       "    }\n",
       "\n",
       "    .dataframe thead th {\n",
       "        text-align: right;\n",
       "    }\n",
       "</style>\n",
       "<table border=\"1\" class=\"dataframe\">\n",
       "  <thead>\n",
       "    <tr style=\"text-align: right;\">\n",
       "      <th></th>\n",
       "      <th>Data</th>\n",
       "      <th>Countries</th>\n",
       "      <th>Local</th>\n",
       "      <th>Industry Sector</th>\n",
       "      <th>Accident Level</th>\n",
       "      <th>Potential Accident Level</th>\n",
       "      <th>Genre</th>\n",
       "      <th>Employee or Third Party</th>\n",
       "      <th>Critical Risk</th>\n",
       "      <th>Description</th>\n",
       "    </tr>\n",
       "  </thead>\n",
       "  <tbody>\n",
       "    <tr>\n",
       "      <th>77</th>\n",
       "      <td>2016-04-01</td>\n",
       "      <td>Country_01</td>\n",
       "      <td>Local_01</td>\n",
       "      <td>Mining</td>\n",
       "      <td>I</td>\n",
       "      <td>V</td>\n",
       "      <td>Male</td>\n",
       "      <td>Third Party (Remote)</td>\n",
       "      <td>Others</td>\n",
       "      <td>In circumstances that two workers of the Abrat...</td>\n",
       "    </tr>\n",
       "    <tr>\n",
       "      <th>262</th>\n",
       "      <td>2016-12-01</td>\n",
       "      <td>Country_01</td>\n",
       "      <td>Local_03</td>\n",
       "      <td>Mining</td>\n",
       "      <td>I</td>\n",
       "      <td>IV</td>\n",
       "      <td>Male</td>\n",
       "      <td>Employee</td>\n",
       "      <td>Others</td>\n",
       "      <td>During the activity of chuteo of ore in hopper...</td>\n",
       "    </tr>\n",
       "    <tr>\n",
       "      <th>303</th>\n",
       "      <td>2017-01-21</td>\n",
       "      <td>Country_02</td>\n",
       "      <td>Local_02</td>\n",
       "      <td>Mining</td>\n",
       "      <td>I</td>\n",
       "      <td>I</td>\n",
       "      <td>Male</td>\n",
       "      <td>Third Party (Remote)</td>\n",
       "      <td>Others</td>\n",
       "      <td>Employees engaged in the removal of material f...</td>\n",
       "    </tr>\n",
       "    <tr>\n",
       "      <th>345</th>\n",
       "      <td>2017-03-02</td>\n",
       "      <td>Country_03</td>\n",
       "      <td>Local_10</td>\n",
       "      <td>Others</td>\n",
       "      <td>I</td>\n",
       "      <td>I</td>\n",
       "      <td>Male</td>\n",
       "      <td>Third Party</td>\n",
       "      <td>Venomous Animals</td>\n",
       "      <td>On 02/03/17 during the soil sampling in the re...</td>\n",
       "    </tr>\n",
       "    <tr>\n",
       "      <th>346</th>\n",
       "      <td>2017-03-02</td>\n",
       "      <td>Country_03</td>\n",
       "      <td>Local_10</td>\n",
       "      <td>Others</td>\n",
       "      <td>I</td>\n",
       "      <td>I</td>\n",
       "      <td>Male</td>\n",
       "      <td>Third Party</td>\n",
       "      <td>Venomous Animals</td>\n",
       "      <td>On 02/03/17 during the soil sampling in the re...</td>\n",
       "    </tr>\n",
       "    <tr>\n",
       "      <th>355</th>\n",
       "      <td>2017-03-15</td>\n",
       "      <td>Country_03</td>\n",
       "      <td>Local_10</td>\n",
       "      <td>Others</td>\n",
       "      <td>I</td>\n",
       "      <td>I</td>\n",
       "      <td>Male</td>\n",
       "      <td>Third Party</td>\n",
       "      <td>Venomous Animals</td>\n",
       "      <td>Team of the VMS Project performed soil collect...</td>\n",
       "    </tr>\n",
       "    <tr>\n",
       "      <th>397</th>\n",
       "      <td>2017-05-23</td>\n",
       "      <td>Country_01</td>\n",
       "      <td>Local_04</td>\n",
       "      <td>Mining</td>\n",
       "      <td>I</td>\n",
       "      <td>IV</td>\n",
       "      <td>Male</td>\n",
       "      <td>Third Party</td>\n",
       "      <td>Projection of fragments</td>\n",
       "      <td>In moments when the 02 collaborators carried o...</td>\n",
       "    </tr>\n",
       "  </tbody>\n",
       "</table>\n",
       "</div>"
      ],
      "text/plain": [
       "          Data   Countries     Local Industry Sector Accident Level  \\\n",
       "77  2016-04-01  Country_01  Local_01          Mining              I   \n",
       "262 2016-12-01  Country_01  Local_03          Mining              I   \n",
       "303 2017-01-21  Country_02  Local_02          Mining              I   \n",
       "345 2017-03-02  Country_03  Local_10          Others              I   \n",
       "346 2017-03-02  Country_03  Local_10          Others              I   \n",
       "355 2017-03-15  Country_03  Local_10          Others              I   \n",
       "397 2017-05-23  Country_01  Local_04          Mining              I   \n",
       "\n",
       "    Potential Accident Level Genre Employee or Third Party  \\\n",
       "77                         V  Male    Third Party (Remote)   \n",
       "262                       IV  Male                Employee   \n",
       "303                        I  Male    Third Party (Remote)   \n",
       "345                        I  Male             Third Party   \n",
       "346                        I  Male             Third Party   \n",
       "355                        I  Male             Third Party   \n",
       "397                       IV  Male             Third Party   \n",
       "\n",
       "               Critical Risk  \\\n",
       "77                    Others   \n",
       "262                   Others   \n",
       "303                   Others   \n",
       "345         Venomous Animals   \n",
       "346         Venomous Animals   \n",
       "355         Venomous Animals   \n",
       "397  Projection of fragments   \n",
       "\n",
       "                                           Description  \n",
       "77   In circumstances that two workers of the Abrat...  \n",
       "262  During the activity of chuteo of ore in hopper...  \n",
       "303  Employees engaged in the removal of material f...  \n",
       "345  On 02/03/17 during the soil sampling in the re...  \n",
       "346  On 02/03/17 during the soil sampling in the re...  \n",
       "355  Team of the VMS Project performed soil collect...  \n",
       "397  In moments when the 02 collaborators carried o...  "
      ]
     },
     "execution_count": 8,
     "metadata": {},
     "output_type": "execute_result"
    }
   ],
   "source": [
    "#Checking the uplicate records\n",
    "df[df.duplicated() == True]"
   ]
  },
  {
   "cell_type": "code",
   "execution_count": 9,
   "id": "1de8ba1b-63b4-4495-8b54-ae6ffd6c6517",
   "metadata": {},
   "outputs": [],
   "source": [
    "#Removing the duplicate records\n",
    "df.drop_duplicates(inplace=True)"
   ]
  },
  {
   "cell_type": "code",
   "execution_count": 10,
   "id": "c6eb385d-78a0-4667-a4e7-341d5f94fc3c",
   "metadata": {},
   "outputs": [],
   "source": [
    "#Renaming the column names\n",
    "df.rename(columns={'Data' : 'Date', 'Countries':'Country','Genre':'Gender','Employee or Third Party':'Employee Type'},inplace= True)"
   ]
  },
  {
   "cell_type": "code",
   "execution_count": 11,
   "id": "c82a90e5-8181-49b1-8336-db22bef151ed",
   "metadata": {},
   "outputs": [
    {
     "data": {
      "text/plain": [
       "Date                        0\n",
       "Country                     0\n",
       "Local                       0\n",
       "Industry Sector             0\n",
       "Accident Level              0\n",
       "Potential Accident Level    0\n",
       "Gender                      0\n",
       "Employee Type               0\n",
       "Critical Risk               0\n",
       "Description                 0\n",
       "dtype: int64"
      ]
     },
     "execution_count": 11,
     "metadata": {},
     "output_type": "execute_result"
    }
   ],
   "source": [
    "#Checking for the missing values\n",
    "df.isnull().sum()"
   ]
  },
  {
   "cell_type": "markdown",
   "id": "3e758718-0bb1-4162-854c-2f35502e45cc",
   "metadata": {},
   "source": [
    "There are no missing values in the dataset."
   ]
  },
  {
   "cell_type": "code",
   "execution_count": 12,
   "id": "08f36b7c-0682-4348-813d-49043d4b5982",
   "metadata": {},
   "outputs": [],
   "source": [
    "#Deriving new columns from Date column - Year, Month, day, Dayname\n",
    "df['Year'] = df['Date'].apply(lambda x:x.year)\n",
    "df['Day'] = df['Date'].apply(lambda x:x.day)\n",
    "df['Month'] = df['Date'].apply(lambda x:x.month)\n",
    "df['Day_name'] = df['Date'].apply(lambda x:x.day_name())"
   ]
  },
  {
   "cell_type": "code",
   "execution_count": 13,
   "id": "650f8b7e-0524-4da3-a039-565f24f2ec2a",
   "metadata": {},
   "outputs": [
    {
     "data": {
      "text/html": [
       "<div>\n",
       "<style scoped>\n",
       "    .dataframe tbody tr th:only-of-type {\n",
       "        vertical-align: middle;\n",
       "    }\n",
       "\n",
       "    .dataframe tbody tr th {\n",
       "        vertical-align: top;\n",
       "    }\n",
       "\n",
       "    .dataframe thead th {\n",
       "        text-align: right;\n",
       "    }\n",
       "</style>\n",
       "<table border=\"1\" class=\"dataframe\">\n",
       "  <thead>\n",
       "    <tr style=\"text-align: right;\">\n",
       "      <th></th>\n",
       "      <th>Date</th>\n",
       "      <th>Country</th>\n",
       "      <th>Local</th>\n",
       "      <th>Industry Sector</th>\n",
       "      <th>Accident Level</th>\n",
       "      <th>Potential Accident Level</th>\n",
       "      <th>Gender</th>\n",
       "      <th>Employee Type</th>\n",
       "      <th>Critical Risk</th>\n",
       "      <th>Description</th>\n",
       "      <th>Year</th>\n",
       "      <th>Day</th>\n",
       "      <th>Month</th>\n",
       "      <th>Day_name</th>\n",
       "    </tr>\n",
       "  </thead>\n",
       "  <tbody>\n",
       "    <tr>\n",
       "      <th>0</th>\n",
       "      <td>2016-01-01</td>\n",
       "      <td>Country_01</td>\n",
       "      <td>Local_01</td>\n",
       "      <td>Mining</td>\n",
       "      <td>I</td>\n",
       "      <td>IV</td>\n",
       "      <td>Male</td>\n",
       "      <td>Third Party</td>\n",
       "      <td>Pressed</td>\n",
       "      <td>While removing the drill rod of the Jumbo 08 f...</td>\n",
       "      <td>2016</td>\n",
       "      <td>1</td>\n",
       "      <td>1</td>\n",
       "      <td>Friday</td>\n",
       "    </tr>\n",
       "    <tr>\n",
       "      <th>1</th>\n",
       "      <td>2016-01-02</td>\n",
       "      <td>Country_02</td>\n",
       "      <td>Local_02</td>\n",
       "      <td>Mining</td>\n",
       "      <td>I</td>\n",
       "      <td>IV</td>\n",
       "      <td>Male</td>\n",
       "      <td>Employee</td>\n",
       "      <td>Pressurized Systems</td>\n",
       "      <td>During the activation of a sodium sulphide pum...</td>\n",
       "      <td>2016</td>\n",
       "      <td>2</td>\n",
       "      <td>1</td>\n",
       "      <td>Saturday</td>\n",
       "    </tr>\n",
       "    <tr>\n",
       "      <th>2</th>\n",
       "      <td>2016-01-06</td>\n",
       "      <td>Country_01</td>\n",
       "      <td>Local_03</td>\n",
       "      <td>Mining</td>\n",
       "      <td>I</td>\n",
       "      <td>III</td>\n",
       "      <td>Male</td>\n",
       "      <td>Third Party (Remote)</td>\n",
       "      <td>Manual Tools</td>\n",
       "      <td>In the sub-station MILPO located at level +170...</td>\n",
       "      <td>2016</td>\n",
       "      <td>6</td>\n",
       "      <td>1</td>\n",
       "      <td>Wednesday</td>\n",
       "    </tr>\n",
       "    <tr>\n",
       "      <th>3</th>\n",
       "      <td>2016-01-08</td>\n",
       "      <td>Country_01</td>\n",
       "      <td>Local_04</td>\n",
       "      <td>Mining</td>\n",
       "      <td>I</td>\n",
       "      <td>I</td>\n",
       "      <td>Male</td>\n",
       "      <td>Third Party</td>\n",
       "      <td>Others</td>\n",
       "      <td>Being 9:45 am. approximately in the Nv. 1880 C...</td>\n",
       "      <td>2016</td>\n",
       "      <td>8</td>\n",
       "      <td>1</td>\n",
       "      <td>Friday</td>\n",
       "    </tr>\n",
       "    <tr>\n",
       "      <th>4</th>\n",
       "      <td>2016-01-10</td>\n",
       "      <td>Country_01</td>\n",
       "      <td>Local_04</td>\n",
       "      <td>Mining</td>\n",
       "      <td>IV</td>\n",
       "      <td>IV</td>\n",
       "      <td>Male</td>\n",
       "      <td>Third Party</td>\n",
       "      <td>Others</td>\n",
       "      <td>Approximately at 11:45 a.m. in circumstances t...</td>\n",
       "      <td>2016</td>\n",
       "      <td>10</td>\n",
       "      <td>1</td>\n",
       "      <td>Sunday</td>\n",
       "    </tr>\n",
       "  </tbody>\n",
       "</table>\n",
       "</div>"
      ],
      "text/plain": [
       "        Date     Country     Local Industry Sector Accident Level  \\\n",
       "0 2016-01-01  Country_01  Local_01          Mining              I   \n",
       "1 2016-01-02  Country_02  Local_02          Mining              I   \n",
       "2 2016-01-06  Country_01  Local_03          Mining              I   \n",
       "3 2016-01-08  Country_01  Local_04          Mining              I   \n",
       "4 2016-01-10  Country_01  Local_04          Mining             IV   \n",
       "\n",
       "  Potential Accident Level Gender         Employee Type        Critical Risk  \\\n",
       "0                       IV   Male           Third Party              Pressed   \n",
       "1                       IV   Male              Employee  Pressurized Systems   \n",
       "2                      III   Male  Third Party (Remote)         Manual Tools   \n",
       "3                        I   Male           Third Party               Others   \n",
       "4                       IV   Male           Third Party               Others   \n",
       "\n",
       "                                         Description  Year  Day  Month  \\\n",
       "0  While removing the drill rod of the Jumbo 08 f...  2016    1      1   \n",
       "1  During the activation of a sodium sulphide pum...  2016    2      1   \n",
       "2  In the sub-station MILPO located at level +170...  2016    6      1   \n",
       "3  Being 9:45 am. approximately in the Nv. 1880 C...  2016    8      1   \n",
       "4  Approximately at 11:45 a.m. in circumstances t...  2016   10      1   \n",
       "\n",
       "    Day_name  \n",
       "0     Friday  \n",
       "1   Saturday  \n",
       "2  Wednesday  \n",
       "3     Friday  \n",
       "4     Sunday  "
      ]
     },
     "execution_count": 13,
     "metadata": {},
     "output_type": "execute_result"
    }
   ],
   "source": [
    "df.head()"
   ]
  },
  {
   "cell_type": "code",
   "execution_count": 14,
   "id": "c4ea5915-bb14-4f92-81de-40637ebe06f4",
   "metadata": {},
   "outputs": [],
   "source": [
    "#Replacing Accident Level VI with V\n",
    "df['Accident Level'] = df['Accident Level'].replace('VI','V')\n",
    "df['Potential Accident Level'] = df['Potential Accident Level'].replace('VI','V')"
   ]
  },
  {
   "cell_type": "markdown",
   "id": "afbb32b0-4303-4f39-bd6e-135163b7bf95",
   "metadata": {},
   "source": [
    "# NLP Data Preprocessing"
   ]
  },
  {
   "cell_type": "code",
   "execution_count": 15,
   "id": "8f37e5cf-541f-4a7b-9807-ceb8183c11cf",
   "metadata": {},
   "outputs": [],
   "source": [
    "#Feature and Target variable\n",
    "x = df['Description']\n",
    "y = df['Accident Level']"
   ]
  },
  {
   "cell_type": "code",
   "execution_count": 16,
   "id": "85c8b071-5e74-4428-9b28-d05887f39003",
   "metadata": {},
   "outputs": [],
   "source": [
    "import unidecode\n",
    "def rmv_uni(sen):\n",
    "  wrds = sen.split()\n",
    "  new_sen = [unidecode.unidecode(w) for w in wrds]\n",
    "  new_sen = ' '.join(new_sen)\n",
    "\n",
    "  return new_sen"
   ]
  },
  {
   "cell_type": "code",
   "execution_count": 17,
   "id": "7d00c471-f652-43cc-a9c2-d37131e2bbac",
   "metadata": {},
   "outputs": [],
   "source": [
    "x = x.apply(lambda x: rmv_uni(x))"
   ]
  },
  {
   "cell_type": "code",
   "execution_count": 18,
   "id": "c6c314bb-6455-4314-a1c7-420f2e8dbe0e",
   "metadata": {},
   "outputs": [],
   "source": [
    "def rmv_schar(s):\n",
    "  wrds = s.split()\n",
    "  new_text = [w for w in wrds if w.isalnum()]\n",
    "  new_text = ' '.join(new_text)\n",
    "\n",
    "  return new_text"
   ]
  },
  {
   "cell_type": "code",
   "execution_count": 19,
   "id": "ed3de7eb-68e5-4900-a101-08faba4061e4",
   "metadata": {},
   "outputs": [],
   "source": [
    "x = x.apply(lambda x: rmv_schar(x))"
   ]
  },
  {
   "cell_type": "code",
   "execution_count": 20,
   "id": "5013ce4b-b565-4c00-a208-8123c500cbce",
   "metadata": {},
   "outputs": [],
   "source": [
    "def lower_case(s):\n",
    "  s = s.lower()\n",
    "  return s"
   ]
  },
  {
   "cell_type": "code",
   "execution_count": 21,
   "id": "27c8680c-dc8a-4fb4-a528-948cddc60360",
   "metadata": {},
   "outputs": [],
   "source": [
    "x = x.apply(lambda x: lower_case(x))"
   ]
  },
  {
   "cell_type": "code",
   "execution_count": 22,
   "id": "a3e1b4df-82c2-4aaf-8c6d-1772261e242c",
   "metadata": {},
   "outputs": [
    {
     "name": "stderr",
     "output_type": "stream",
     "text": [
      "[nltk_data] Downloading package stopwords to C:\\Users\\Mrinal\n",
      "[nltk_data]     Kalita\\AppData\\Roaming\\nltk_data...\n",
      "[nltk_data]   Package stopwords is already up-to-date!\n"
     ]
    }
   ],
   "source": [
    "import nltk\n",
    "nltk.download('stopwords')\n",
    "from nltk.corpus import stopwords"
   ]
  },
  {
   "cell_type": "code",
   "execution_count": 23,
   "id": "f9ea91c9-b061-4912-b6d3-8edd08a69fca",
   "metadata": {},
   "outputs": [],
   "source": [
    "def rmv_stpwrds(sen):\n",
    "  wrds = sen.split()\n",
    "  new_text = [w for w in wrds if w not in stopwords.words('english')]\n",
    "  new_text = ' '.join(new_text)\n",
    "\n",
    "  return new_text"
   ]
  },
  {
   "cell_type": "code",
   "execution_count": 24,
   "id": "324b8396-84f7-4cb4-8b29-75d05eb3ff21",
   "metadata": {},
   "outputs": [],
   "source": [
    "x= x.apply(lambda x: rmv_stpwrds(x))"
   ]
  },
  {
   "cell_type": "code",
   "execution_count": 25,
   "id": "573d4788-b732-4e80-aed9-4f6e1b5f313a",
   "metadata": {},
   "outputs": [],
   "source": [
    "def strp(sen):\n",
    "  sen = sen.strip()\n",
    "  return sen"
   ]
  },
  {
   "cell_type": "code",
   "execution_count": 26,
   "id": "412e06ba-7ddf-497f-be22-558b6b5c8143",
   "metadata": {},
   "outputs": [],
   "source": [
    "x = x.apply(lambda x: strp(x))"
   ]
  },
  {
   "cell_type": "code",
   "execution_count": 27,
   "id": "0f235f11-8396-4017-9092-4d04b6d8bef0",
   "metadata": {},
   "outputs": [],
   "source": [
    "#Adding preprocessed description in the dataframe\n",
    "df['Cleaned_description'] = x"
   ]
  },
  {
   "cell_type": "code",
   "execution_count": 28,
   "id": "f9683649-ea50-483c-9f9d-0c2383fed0f3",
   "metadata": {},
   "outputs": [],
   "source": [
    "df = df[['Cleaned_description','Accident Level']]"
   ]
  },
  {
   "cell_type": "code",
   "execution_count": 29,
   "id": "3db83257-48ec-424b-8a40-88dd776b7021",
   "metadata": {},
   "outputs": [
    {
     "data": {
      "text/html": [
       "<div>\n",
       "<style scoped>\n",
       "    .dataframe tbody tr th:only-of-type {\n",
       "        vertical-align: middle;\n",
       "    }\n",
       "\n",
       "    .dataframe tbody tr th {\n",
       "        vertical-align: top;\n",
       "    }\n",
       "\n",
       "    .dataframe thead th {\n",
       "        text-align: right;\n",
       "    }\n",
       "</style>\n",
       "<table border=\"1\" class=\"dataframe\">\n",
       "  <thead>\n",
       "    <tr style=\"text-align: right;\">\n",
       "      <th></th>\n",
       "      <th>Cleaned_description</th>\n",
       "      <th>Accident Level</th>\n",
       "    </tr>\n",
       "  </thead>\n",
       "  <tbody>\n",
       "    <tr>\n",
       "      <th>0</th>\n",
       "      <td>removing drill rod jumbo 08 supervisor proceed...</td>\n",
       "      <td>I</td>\n",
       "    </tr>\n",
       "    <tr>\n",
       "      <th>1</th>\n",
       "      <td>activation sodium sulphide piping uncoupled su...</td>\n",
       "      <td>I</td>\n",
       "    </tr>\n",
       "    <tr>\n",
       "      <th>2</th>\n",
       "      <td>milpo located level collaborator excavation wo...</td>\n",
       "      <td>I</td>\n",
       "    </tr>\n",
       "    <tr>\n",
       "      <th>3</th>\n",
       "      <td>approximately 1880 personnel begins task unloc...</td>\n",
       "      <td>I</td>\n",
       "    </tr>\n",
       "    <tr>\n",
       "      <th>4</th>\n",
       "      <td>approximately circumstances mechanics anthony ...</td>\n",
       "      <td>IV</td>\n",
       "    </tr>\n",
       "  </tbody>\n",
       "</table>\n",
       "</div>"
      ],
      "text/plain": [
       "                                 Cleaned_description Accident Level\n",
       "0  removing drill rod jumbo 08 supervisor proceed...              I\n",
       "1  activation sodium sulphide piping uncoupled su...              I\n",
       "2  milpo located level collaborator excavation wo...              I\n",
       "3  approximately 1880 personnel begins task unloc...              I\n",
       "4  approximately circumstances mechanics anthony ...             IV"
      ]
     },
     "execution_count": 29,
     "metadata": {},
     "output_type": "execute_result"
    }
   ],
   "source": [
    "df.head()"
   ]
  },
  {
   "cell_type": "code",
   "execution_count": 30,
   "id": "d7c36cb3-ba35-4e86-92c1-9a828a8470de",
   "metadata": {},
   "outputs": [],
   "source": [
    "df['Accident Level'] = df['Accident Level'].replace(['I','II','III','IV','V'],[1,2,3,4,5]) "
   ]
  },
  {
   "cell_type": "code",
   "execution_count": 40,
   "id": "82a0a5fe-a904-4a10-bdc5-f5573f2cc22d",
   "metadata": {},
   "outputs": [],
   "source": [
    "from datasets.dataset_dict import DatasetDict\n",
    "from datasets import Dataset\n",
    "\n",
    "d = {'train':Dataset.from_dict({'label':df['Accident Level'][0:339],'text':df['Cleaned_description'][0:339]}),\n",
    "     'val':Dataset.from_dict({'label':df['Accident Level'][340:],'text':df['Cleaned_description'][340:]}),\n",
    "     }\n",
    "\n",
    "d = DatasetDict(d)"
   ]
  },
  {
   "cell_type": "code",
   "execution_count": 41,
   "id": "57a63fbf-9f5a-4a85-91df-5c3c7a1bf3f7",
   "metadata": {},
   "outputs": [
    {
     "name": "stderr",
     "output_type": "stream",
     "text": [
      "Map: 100%|███████████████████████████████████████████████████████████████████| 339/339 [00:00<00:00, 368.54 examples/s]\n",
      "Map: 100%|█████████████████████████████████████████████████████████████████████| 78/78 [00:00<00:00, 275.77 examples/s]\n"
     ]
    }
   ],
   "source": [
    "from transformers import GPT2Tokenizer\n",
    "\n",
    "tokenizer = GPT2Tokenizer.from_pretrained(\"gpt2\")\n",
    "tokenizer.pad_token = tokenizer.eos_token\n",
    "#def tokenize_function(examples):\n",
    " #  return tokenizer(examples, padding=\"max_length\", truncation=True)\n",
    "def tokenize_function(examples):\n",
    "    return tokenizer(examples[\"text\"], padding=\"max_length\", truncation=True)\n",
    "\n",
    "tokenized_datasets = d.map(tokenize_function, batched=True)"
   ]
  },
  {
   "cell_type": "code",
   "execution_count": 42,
   "id": "75019d50-41d8-4743-a19a-c99fe6efe8f2",
   "metadata": {},
   "outputs": [],
   "source": [
    "small_train_dataset = tokenized_datasets[\"train\"]\n",
    "small_eval_dataset = tokenized_datasets[\"val\"]"
   ]
  },
  {
   "cell_type": "code",
   "execution_count": 43,
   "id": "37b6519a-b54b-4970-97f8-44dc467b95be",
   "metadata": {},
   "outputs": [],
   "source": [
    "import torch\n",
    "#print(torch.cuda.is_available())\n",
    "#print(torch.cuda.get_device_name(0))"
   ]
  },
  {
   "cell_type": "code",
   "execution_count": 60,
   "id": "d52095ce-2789-4e07-93fc-886232587efe",
   "metadata": {},
   "outputs": [
    {
     "name": "stderr",
     "output_type": "stream",
     "text": [
      "Some weights of GPT2ForSequenceClassification were not initialized from the model checkpoint at gpt2 and are newly initialized: ['score.weight']\n",
      "You should probably TRAIN this model on a down-stream task to be able to use it for predictions and inference.\n"
     ]
    }
   ],
   "source": [
    "from transformers import GPT2ForSequenceClassification\n",
    "#from tensorflow import keras\n",
    "\n",
    "model = GPT2ForSequenceClassification.from_pretrained(\"gpt2\", num_labels=6)"
   ]
  },
  {
   "cell_type": "code",
   "execution_count": 57,
   "id": "b3564659-f957-437d-bd93-1ee0851c4707",
   "metadata": {},
   "outputs": [],
   "source": [
    "import evaluate\n",
    "\n",
    "metric = evaluate.load(\"accuracy\")\n",
    "\n",
    "def compute_metrics(eval_pred):\n",
    "   logits, labels = eval_pred\n",
    "   predictions = np.argmax(logits, axis=-1)\n",
    "   return metric.compute(predictions=predictions, references=labels)"
   ]
  },
  {
   "cell_type": "code",
   "execution_count": 61,
   "id": "b4cc0b22-eace-4a83-8978-9d4c7a3a50a6",
   "metadata": {},
   "outputs": [
    {
     "data": {
      "text/html": [
       "\n",
       "    <div>\n",
       "      \n",
       "      <progress value='252' max='252' style='width:300px; height:20px; vertical-align: middle;'></progress>\n",
       "      [252/252 3:14:19, Epoch 2/3]\n",
       "    </div>\n",
       "    <table border=\"1\" class=\"dataframe\">\n",
       "  <thead>\n",
       " <tr style=\"text-align: left;\">\n",
       "      <th>Step</th>\n",
       "      <th>Training Loss</th>\n",
       "    </tr>\n",
       "  </thead>\n",
       "  <tbody>\n",
       "  </tbody>\n",
       "</table><p>"
      ],
      "text/plain": [
       "<IPython.core.display.HTML object>"
      ]
     },
     "metadata": {},
     "output_type": "display_data"
    },
    {
     "data": {
      "text/plain": [
       "TrainOutput(global_step=252, training_loss=0.9317533704969618, metrics={'train_runtime': 11697.8913, 'train_samples_per_second': 0.087, 'train_steps_per_second': 0.022, 'total_flos': 526793274556416.0, 'train_loss': 0.9317533704969618, 'epoch': 2.97})"
      ]
     },
     "execution_count": 61,
     "metadata": {},
     "output_type": "execute_result"
    }
   ],
   "source": [
    "from transformers import TrainingArguments, Trainer\n",
    "\n",
    "training_args = TrainingArguments(\n",
    "   output_dir=\"test_trainer\",\n",
    "   #evaluation_strategy=\"epoch\",\n",
    "   per_device_train_batch_size=1,  # Reduce batch size here\n",
    "   per_device_eval_batch_size=1,    # Optionally, reduce for evaluation as well\n",
    "   gradient_accumulation_steps=4\n",
    "   )\n",
    "\n",
    "\n",
    "trainer = Trainer(\n",
    "   model=model,\n",
    "   args=training_args,\n",
    "   train_dataset=small_train_dataset,\n",
    "   eval_dataset=small_eval_dataset,\n",
    "   compute_metrics=compute_metrics,\n",
    "\n",
    ")\n",
    "\n",
    "trainer.train()"
   ]
  },
  {
   "cell_type": "code",
   "execution_count": 62,
   "id": "dfceb5f8-fe0b-43c5-858e-f78011b5db64",
   "metadata": {},
   "outputs": [
    {
     "data": {
      "text/html": [
       "\n",
       "    <div>\n",
       "      \n",
       "      <progress value='78' max='78' style='width:300px; height:20px; vertical-align: middle;'></progress>\n",
       "      [78/78 05:51]\n",
       "    </div>\n",
       "    "
      ],
      "text/plain": [
       "<IPython.core.display.HTML object>"
      ]
     },
     "metadata": {},
     "output_type": "display_data"
    },
    {
     "data": {
      "text/plain": [
       "{'eval_loss': 0.9067965745925903,\n",
       " 'eval_accuracy': 0.7435897435897436,\n",
       " 'eval_runtime': 355.3761,\n",
       " 'eval_samples_per_second': 0.219,\n",
       " 'eval_steps_per_second': 0.219,\n",
       " 'epoch': 2.97}"
      ]
     },
     "execution_count": 62,
     "metadata": {},
     "output_type": "execute_result"
    }
   ],
   "source": [
    "import evaluate\n",
    "\n",
    "trainer.evaluate()"
   ]
  },
  {
   "cell_type": "code",
   "execution_count": 63,
   "id": "7c8faf50-da34-4b48-8740-2e2b496ed65b",
   "metadata": {},
   "outputs": [],
   "source": [
    "import pickle\n",
    "pickle.dump(model,open('model.pkl','wb'))"
   ]
  },
  {
   "cell_type": "code",
   "execution_count": 4,
   "id": "5970ee85-fe41-41e5-a6fd-58c8cd84667e",
   "metadata": {},
   "outputs": [
    {
     "name": "stderr",
     "output_type": "stream",
     "text": [
      "C:\\Anaconda\\envs\\Transformers\\lib\\site-packages\\tqdm\\auto.py:21: TqdmWarning: IProgress not found. Please update jupyter and ipywidgets. See https://ipywidgets.readthedocs.io/en/stable/user_install.html\n",
      "  from .autonotebook import tqdm as notebook_tqdm\n"
     ]
    }
   ],
   "source": [
    "import pickle\n",
    "mod = pickle.load(open('C:/Users/Mrinal Kalita/Python Projects/CApstone Project - Chatbot/model.pkl', 'rb'))"
   ]
  },
  {
   "cell_type": "code",
   "execution_count": null,
   "id": "cbf54253-1774-43ff-9d1a-9c9215987e4d",
   "metadata": {},
   "outputs": [],
   "source": []
  },
  {
   "cell_type": "code",
   "execution_count": null,
   "id": "0d8fe85e-7632-40e8-b605-b656d84b8345",
   "metadata": {},
   "outputs": [],
   "source": []
  },
  {
   "cell_type": "code",
   "execution_count": null,
   "id": "657b8982-0ca4-46ef-9212-34094e41aded",
   "metadata": {},
   "outputs": [],
   "source": []
  },
  {
   "cell_type": "code",
   "execution_count": null,
   "id": "b61b846a-4399-4878-b72a-b93a42e52bed",
   "metadata": {},
   "outputs": [],
   "source": []
  }
 ],
 "metadata": {
  "kernelspec": {
   "display_name": "Python 3 (ipykernel)",
   "language": "python",
   "name": "python3"
  },
  "language_info": {
   "codemirror_mode": {
    "name": "ipython",
    "version": 3
   },
   "file_extension": ".py",
   "mimetype": "text/x-python",
   "name": "python",
   "nbconvert_exporter": "python",
   "pygments_lexer": "ipython3",
   "version": "3.8.19"
  }
 },
 "nbformat": 4,
 "nbformat_minor": 5
}
